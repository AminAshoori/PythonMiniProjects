{
 "cells": [
  {
   "cell_type": "code",
   "execution_count": 34,
   "metadata": {},
   "outputs": [],
   "source": [
    "import json\n",
    "\n",
    "\n",
    "class ContactManager:\n",
    "        def __init__(self,path=\"-\"):\n",
    "            self.contact_list =[]\n",
    "            \n",
    "            if path !=\"-\":\n",
    "                with open(path,'r') as file:\n",
    "                    data = file.read()\n",
    "                    self.contact_list =json.loads(data)\n",
    "                print(\"Loadded......\")\n",
    "        \n",
    "        def addc(self,name,number):\n",
    "            self.contact_list.append({\n",
    "                \"name\":name,\n",
    "                \"number\":number\n",
    "                \n",
    "            })\n",
    "        \n",
    "        def search(self,name):\n",
    "            resault =[]\n",
    "            for item in self.contact_list:\n",
    "                if name.lower() in item[\"name\"]:\n",
    "                    resault.append(item)\n",
    "                    \n",
    "            print(resault)   \n",
    "        \n",
    "        def backup(self):\n",
    "            with open(\"./contact_list.json\",'w') as file:\n",
    "                file.write(json.dumps(self.contact_list))\n",
    "        \n",
    "        def show(self):\n",
    "            print(f\"your contacts are: {self.contact_list}\")"
   ]
  },
  {
   "cell_type": "code",
   "execution_count": 22,
   "metadata": {},
   "outputs": [
    {
     "name": "stdout",
     "output_type": "stream",
     "text": [
      "your contacts are: [{'name': 'amin', 'number': '0912'}]\n"
     ]
    }
   ],
   "source": [
    "my_contacts =ContactManager()\n",
    "my_contacts.addc(\"amin\",\"0912\")\n",
    "my_contacts.show()"
   ]
  },
  {
   "cell_type": "code",
   "execution_count": 23,
   "metadata": {},
   "outputs": [],
   "source": [
    "my_contacts.addc(\"hasan\",\"123\")"
   ]
  },
  {
   "cell_type": "code",
   "execution_count": 24,
   "metadata": {},
   "outputs": [
    {
     "name": "stdout",
     "output_type": "stream",
     "text": [
      "your contacts are: [{'name': 'amin', 'number': '0912'}, {'name': 'hasan', 'number': '123'}]\n"
     ]
    }
   ],
   "source": [
    "my_contacts.show()"
   ]
  },
  {
   "cell_type": "code",
   "execution_count": 25,
   "metadata": {},
   "outputs": [
    {
     "name": "stdout",
     "output_type": "stream",
     "text": [
      "[{'name': 'amin', 'number': '0912'}, {'name': 'hasan', 'number': '123'}]\n"
     ]
    }
   ],
   "source": [
    "my_contacts.search('a')"
   ]
  },
  {
   "cell_type": "code",
   "execution_count": 26,
   "metadata": {},
   "outputs": [],
   "source": [
    "my_contacts.backup()"
   ]
  },
  {
   "cell_type": "code",
   "execution_count": 27,
   "metadata": {},
   "outputs": [],
   "source": [
    "my_contacts.addc(\"hamid\",\"0999\")"
   ]
  },
  {
   "cell_type": "code",
   "execution_count": 28,
   "metadata": {},
   "outputs": [],
   "source": [
    "my_contacts.backup()"
   ]
  },
  {
   "cell_type": "code",
   "execution_count": 35,
   "metadata": {},
   "outputs": [
    {
     "name": "stdout",
     "output_type": "stream",
     "text": [
      "Loadded......\n"
     ]
    }
   ],
   "source": [
    "my_cont2 = ContactManager(path=\"./contact_list.json\")"
   ]
  },
  {
   "cell_type": "code",
   "execution_count": 36,
   "metadata": {},
   "outputs": [
    {
     "name": "stdout",
     "output_type": "stream",
     "text": [
      "your contacts are: [{'name': 'amin', 'number': '0912'}, {'name': 'hasan', 'number': '123'}, {'name': 'hamid', 'number': '0999'}, {'name': 'hamin', 'number': '8699'}]\n"
     ]
    }
   ],
   "source": [
    "my_cont2.show()"
   ]
  },
  {
   "cell_type": "code",
   "execution_count": 37,
   "metadata": {},
   "outputs": [
    {
     "name": "stdout",
     "output_type": "stream",
     "text": [
      "[{'name': 'hamid', 'number': '0999'}, {'name': 'hamin', 'number': '8699'}]\n"
     ]
    }
   ],
   "source": [
    "my_cont2.search(\"hami\")"
   ]
  },
  {
   "cell_type": "code",
   "execution_count": null,
   "metadata": {},
   "outputs": [],
   "source": []
  }
 ],
 "metadata": {
  "kernelspec": {
   "display_name": "Python 3",
   "language": "python",
   "name": "python3"
  },
  "language_info": {
   "codemirror_mode": {
    "name": "ipython",
    "version": 3
   },
   "file_extension": ".py",
   "mimetype": "text/x-python",
   "name": "python",
   "nbconvert_exporter": "python",
   "pygments_lexer": "ipython3",
   "version": "3.11.4"
  }
 },
 "nbformat": 4,
 "nbformat_minor": 2
}
